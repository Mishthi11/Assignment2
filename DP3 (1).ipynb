{
 "cells": [
  {
   "cell_type": "markdown",
   "id": "f9c2aa76",
   "metadata": {},
   "source": [
    "## Name : Mishthi Bhatiya\n",
    "## Course : BDAT 1004 (Data Programming)\n",
    "## Assignment : Problem Set 2\n",
    "## Student ID : 200521516"
   ]
  },
  {
   "cell_type": "markdown",
   "id": "c39a5ae7",
   "metadata": {},
   "source": [
    "## Question 1:"
   ]
  },
  {
   "cell_type": "code",
   "execution_count": 7,
   "id": "c9cad261",
   "metadata": {},
   "outputs": [],
   "source": [
    "a = 0\n",
    "def b(): #function b() is defined.\n",
    " global a\n",
    " a = c(a) #function c(a) is defined, which takes a parameter a and returns a + 2.\n",
    "def c(a):\n",
    " return a + 2\n",
    " \n"
   ]
  },
  {
   "cell_type": "code",
   "execution_count": 8,
   "id": "79d406a4",
   "metadata": {},
   "outputs": [
    {
     "data": {
      "text/plain": [
       "6"
      ]
     },
     "execution_count": 8,
     "metadata": {},
     "output_type": "execute_result"
    }
   ],
   "source": [
    "b()\n",
    "#Here, the first call to b() is made, which calls c(a) with the current value of a (which is 0).\n",
    "# This assigns the result (2) to a. \n",
    "#So,the value of a is now 2.\n",
    "\n",
    "b()\n",
    "#Here, the second call to b() is made, which calls c(a) with the current value of a (which is 2).\n",
    "#This assigns the result (4) to a.\n",
    "#So,the value of a is now 4.\n",
    "\n",
    "b()\n",
    "#Here,the third call to b() is made, which calls c(a) with the current value of a (which is 4). \n",
    "#This  assigns the result (6) to a. \n",
    "#So,the value of a is now 6.\n",
    "\n",
    "a\n",
    "#Here,a is evaluated, it has the value 6, so that is what is returned in the output.\n"
   ]
  },
  {
   "cell_type": "markdown",
   "id": "e86b288d",
   "metadata": {},
   "source": [
    "## Question 2:"
   ]
  },
  {
   "cell_type": "code",
   "execution_count": 2,
   "id": "9cfda582",
   "metadata": {},
   "outputs": [],
   "source": [
    "def fileLength(filename):\n",
    "    try:\n",
    "        infile = open(filename, 'r')\n",
    "        contents = infile.read()\n",
    "        infile.close()\n",
    "        return len(contents)\n",
    "    except FileNotFoundError:\n",
    "        print(f\"File {filename} not found.\")"
   ]
  },
  {
   "cell_type": "code",
   "execution_count": 3,
   "id": "2823ed6b",
   "metadata": {},
   "outputs": [
    {
     "name": "stdout",
     "output_type": "stream",
     "text": [
      "File r.py not found.\n"
     ]
    }
   ],
   "source": [
    "fileLength('r.py')"
   ]
  },
  {
   "cell_type": "code",
   "execution_count": 4,
   "id": "8f23a59a",
   "metadata": {},
   "outputs": [
    {
     "name": "stdout",
     "output_type": "stream",
     "text": [
      "File filename.py not found.\n",
      "File midterm.py not found.\n",
      "File idterm.py not found.\n"
     ]
    }
   ],
   "source": [
    "fileLength('filename.py')\n",
    "fileLength('midterm.py')\n",
    "fileLength('idterm.py')"
   ]
  },
  {
   "cell_type": "markdown",
   "id": "9c417ee0",
   "metadata": {},
   "source": [
    "## Question 3:"
   ]
  },
  {
   "cell_type": "code",
   "execution_count": 79,
   "id": "61b1b89a",
   "metadata": {},
   "outputs": [
    {
     "name": "stdout",
     "output_type": "stream",
     "text": [
      "I am a Kanagaroo located at coordinates (0,0)\n",
      "['doll', 'firetruck', 'kitten']\n",
      "I am a Kanagaroo located at coordinates (3,0)\n"
     ]
    }
   ],
   "source": [
    "class Marsupial:  # Define a Marsupial class with an empty pouch list as its instance variable.\n",
    "\n",
    "    def __init__(self):\n",
    "        self.pouch=[]\n",
    "    def put_in_pouch(self, item): # Define a method to add an item to the pouch list.\n",
    "        self.pouch.append(item)\n",
    "    def pouch_contents(self): # Define a method to return the contents of the pouch list.\n",
    "        return self.pouch\n",
    "\n",
    "class Kangaroo(Marsupial): # Define a Kangaroo class that inherits from the Marsupial class.\n",
    "    def __init__(self, x,a):\n",
    "        Marsupial.__init__(self)\n",
    "        self.x=x\n",
    "        self.a=a\n",
    "    def jump(self, dx, da): # Define a method to update the Kangaroo's coordinates.\n",
    "        self.x+=dx\n",
    "        self.x+=da\n",
    "    def __str__(self): # Define a method to return a string representation of the Kangaroo's coordinates.\n",
    "        return \"I am a Kanagaroo located at coordinates (\"+str(self.x)+\",\"+str(self.a)+\")\"\n",
    "\n",
    "m = Marsupial()\n",
    "m.put_in_pouch('doll')\n",
    "m.put_in_pouch('firetruck')\n",
    "m.put_in_pouch('kitten')\n",
    "m.pouch_contents()\n",
    "\n",
    "k = Kangaroo(0,0)\n",
    "print(k)\n",
    "\n",
    "k.put_in_pouch('doll')\n",
    "k.put_in_pouch('firetruck')\n",
    "k.put_in_pouch('kitten')\n",
    "ak=k.pouch_contents()\n",
    "print(ak)\n",
    "\n",
    "k.jump(1,0)\n",
    "k.jump(1,0)\n",
    "k.jump(1,0)\n",
    "\n",
    "print(k)\n",
    "\n",
    "#This code defines two classes, Marsupial and Kangaroo, and demonstrates how the Kangaroo class can inherit attributes and methods from the Marsupial class. \n",
    "#The Marsupial class defines a simple pouch for holding items, while the Kangaroo class adds methods for jumping and tracking coordinates. "
   ]
  },
  {
   "cell_type": "markdown",
   "id": "887af2ab",
   "metadata": {},
   "source": [
    "## Question 4:"
   ]
  },
  {
   "cell_type": "code",
   "execution_count": 21,
   "id": "d567c35d",
   "metadata": {},
   "outputs": [],
   "source": [
    "def collatz(x):\n",
    "   # The function collatz(x) takes an integer x as input and returns a list of integers representing the Collatz sequence for x.\n",
    "   #The Collatz sequence is a sequence of integers obtained by repeatedly applying the Collatz function to the previous term in the sequence, where the Collatz function is defined as follows:\n",
    "        #a. If the current term (x) is even, divide it by 2.\n",
    "        #b. f the current term(x) is odd , multiply it by 3 and add 1.\n",
    "    \n",
    "    if x== 1:\n",
    "        return [1]\n",
    "    elif x%2==0:\n",
    "        return[x] + collatz(x//2)\n",
    "    else:\n",
    "        return[x] + collatz(3*x + 1)\n",
    "   "
   ]
  },
  {
   "cell_type": "code",
   "execution_count": 22,
   "id": "7f7a3e18",
   "metadata": {},
   "outputs": [
    {
     "data": {
      "text/plain": [
       "[1]"
      ]
     },
     "execution_count": 22,
     "metadata": {},
     "output_type": "execute_result"
    }
   ],
   "source": [
    "collatz(1)"
   ]
  },
  {
   "cell_type": "code",
   "execution_count": 23,
   "id": "dc99849b",
   "metadata": {},
   "outputs": [
    {
     "data": {
      "text/plain": [
       "[10, 5, 16, 8, 4, 2, 1]"
      ]
     },
     "execution_count": 23,
     "metadata": {},
     "output_type": "execute_result"
    }
   ],
   "source": [
    "collatz(10)"
   ]
  },
  {
   "cell_type": "markdown",
   "id": "c507cd63",
   "metadata": {},
   "source": [
    "## Question 5:"
   ]
  },
  {
   "cell_type": "code",
   "execution_count": 1,
   "id": "eeb7e456",
   "metadata": {},
   "outputs": [],
   "source": [
    "def binary(n):   #If n is 0, we print 0 (the binary representation of 0).\n",
    "                #If n is 1, we print 1 (the binary representation of 1).\n",
    "                #If n is greater than 1, we recursively call binary(n // 2) to print the binary representation of n // 2.\n",
    "                #After the recursive call, we print n % 2 (the remainder when n is divided by 2), which represents the rightmost digit of n in binary.\n",
    "    if n == 0:\n",
    "        print('0', end='')\n",
    "    elif n == 1:\n",
    "        print('1', end='')    # we use end='' to suppress the newline character that print() normally appends to its output. This ensures that the binary digits are printed on a single line.\n",
    "    else:\n",
    "        binary(n // 2)\n",
    "        print(n % 2, end='')\n",
    "        \n",
    "         #calling binary(n) with a non-negative integer n will print the binary representation of n."
   ]
  },
  {
   "cell_type": "code",
   "execution_count": 2,
   "id": "779fb204",
   "metadata": {},
   "outputs": [
    {
     "name": "stdout",
     "output_type": "stream",
     "text": [
      "0"
     ]
    }
   ],
   "source": [
    "binary(0)"
   ]
  },
  {
   "cell_type": "code",
   "execution_count": 3,
   "id": "34fe0274",
   "metadata": {},
   "outputs": [
    {
     "name": "stdout",
     "output_type": "stream",
     "text": [
      "1001"
     ]
    }
   ],
   "source": [
    "binary(9)"
   ]
  },
  {
   "cell_type": "code",
   "execution_count": 4,
   "id": "3f8dfb24",
   "metadata": {},
   "outputs": [
    {
     "name": "stdout",
     "output_type": "stream",
     "text": [
      "100000000"
     ]
    }
   ],
   "source": [
    "binary(256)"
   ]
  },
  {
   "cell_type": "code",
   "execution_count": 5,
   "id": "8180fa5b",
   "metadata": {},
   "outputs": [
    {
     "name": "stdout",
     "output_type": "stream",
     "text": [
      "100000001"
     ]
    }
   ],
   "source": [
    "binary(257)"
   ]
  },
  {
   "cell_type": "markdown",
   "id": "28f7cf9b",
   "metadata": {},
   "source": [
    "## Question 6:"
   ]
  },
  {
   "cell_type": "code",
   "execution_count": 53,
   "id": "dd49666a",
   "metadata": {},
   "outputs": [
    {
     "name": "stdout",
     "output_type": "stream",
     "text": [
      "W3C Mission\n",
      " Principles\n"
     ]
    }
   ],
   "source": [
    "from html.parser import HTMLParser\n",
    "\n",
    "class HeadingParser(HTMLParser):\n",
    "    Headers = [\"h1\", \"h2\"]\n",
    "    current = -1\n",
    "\n",
    "    def handle_starttag(self, tag, attrs):      \n",
    "        if tag in HeadingParser.Headers:         \n",
    "            HeadingParser.current = HeadingParser.Headers.index(tag)\n",
    "    \n",
    "    def handle_endtag(self, tag):                \n",
    "        if tag == HeadingParser.Headers[HeadingParser.current]:          \n",
    "            HeadingParser.current = -1\n",
    "            \n",
    "    def handle_data(self, data):\n",
    "        if HeadingParser.current >= 0:\n",
    "            print(\" \" * HeadingParser.current + data)\n",
    "            \n",
    "infile = open(\"C:/Users/bhati/Downloads/w3c.html\")\n",
    "content = infile.read()\n",
    "infile.close()\n",
    "hp = HeadingParser()\n",
    "hp.feed(content)\n",
    "\n",
    "\n",
    "\n",
    "#We define a new class called HeadingParser that inherits from HTMLParser.\n",
    "#We define a constructor that calls the constructor of the HTMLParser superclass, and initializes two instance variables: self.headings (a list to store the headings we find) and self.indentation (the current indentation level).\n",
    "#We override the handle_starttag method to handle start tags (i.e., opening tags) of heading elements. If the tag is an h1, h2, h3, etc., we set the indentation level to the appropriate value (one less than the heading level), and add the full start tag (including any attributes) to the self.headings list.\n",
    "#We override the handle_data method to handle text content inside heading elements. If the text is not empty and we have any headings in the self.headings list, we add the text to the most recently added heading.\n",
    "#We define a new method called print_headings that prints each heading in the self.headings list, one per line, with the appropriate indentation.\n",
    "#With this implementation, we can create a new HeadingParser object, feed it an HTML document, and then print the headings using the print_headings method:\n",
    "\n",
    "\n",
    "\n",
    "\n",
    "\n",
    "\n"
   ]
  },
  {
   "cell_type": "markdown",
   "id": "d41293d8",
   "metadata": {},
   "source": [
    "## Question 7:"
   ]
  },
  {
   "cell_type": "code",
   "execution_count": 54,
   "id": "a8a62c4c",
   "metadata": {},
   "outputs": [],
   "source": [
    "import requests\n",
    "from bs4 import BeautifulSoup\n",
    "\n",
    "def webdir(url, depth, indent):\n",
    "    # print the URL with the given indentation\n",
    "    print(\" \"*indent + url)\n",
    "\n",
    "    # if we have reached the maximum depth, return\n",
    "    if depth == 0:\n",
    "        return\n",
    "\n",
    "    try:\n",
    "        # fetch the web page\n",
    "        response = requests.get(url)\n",
    "\n",
    "        # parse the HTML content\n",
    "        soup = BeautifulSoup(response.content, 'html.parser')\n",
    "         # find all links on the page\n",
    "        links = soup.find_all('a')\n",
    "\n",
    "        # recursively visit each link\n",
    "        for link in links:\n",
    "            href = link.get('href')\n",
    "            if href.startswith('http'):\n",
    "                webdir(href, depth - 1, indent + 4)\n",
    "\n",
    "    except requests.exceptions.RequestException:\n",
    "        # handle any exceptions that may occur\n",
    "        pass"
   ]
  },
  {
   "cell_type": "code",
   "execution_count": 55,
   "id": "39377665",
   "metadata": {},
   "outputs": [
    {
     "name": "stdout",
     "output_type": "stream",
     "text": [
      "http://reed.cs.depaul.edu/lperkovic/csc242/test1.html\n"
     ]
    }
   ],
   "source": [
    "webdir('http://reed.cs.depaul.edu/lperkovic/csc242/test1.html'\n",
    ", 2, 0)"
   ]
  },
  {
   "cell_type": "code",
   "execution_count": 56,
   "id": "ed5278fa",
   "metadata": {},
   "outputs": [
    {
     "name": "stdout",
     "output_type": "stream",
     "text": [
      "       http://reed.cs.depaul.edu/lperkovic/csc242/test1.html\n"
     ]
    }
   ],
   "source": [
    "webdir('http://reed.cs.depaul.edu/lperkovic/csc242/test1.html'\n",
    ", 3, 7)"
   ]
  },
  {
   "cell_type": "markdown",
   "id": "a3bdcb87",
   "metadata": {},
   "source": [
    "## Question 8:"
   ]
  },
  {
   "cell_type": "code",
   "execution_count": 81,
   "id": "07a30c44",
   "metadata": {},
   "outputs": [
    {
     "data": {
      "text/plain": [
       "[('Mumbai', 'India', 'Winter', 24.8, 5.9),\n",
       " ('Mumbai', 'India', 'Spring', 28.4, 16.2),\n",
       " ('Mumbai', 'India', 'Summer', 27.9, 1549.4),\n",
       " ('Mumbai', 'India', 'Fall', 27.6, 346.0),\n",
       " ('London', 'United Kindom', 'Winter', 4.2, 207.7),\n",
       " ('London', 'United Kindom', 'Spring', 8.3, 169.6),\n",
       " ('London', 'United Kindom', 'Summer', 15.7, 157.0),\n",
       " ('London', 'United Kindom', 'Fall', 10.4, 218.5),\n",
       " ('Cairo', 'Egypt', 'Winter', 13.6, 16.5),\n",
       " ('Cairo', 'Egypt', 'Spring', 20.7, 6.5),\n",
       " ('Cairo', 'Egypt', 'Summer', 27.7, 0.1),\n",
       " ('Cairo', 'Egypt', 'Fall', 22.2, 4.5)]"
      ]
     },
     "execution_count": 81,
     "metadata": {},
     "output_type": "execute_result"
    }
   ],
   "source": [
    "# Creating a table named 'cityInfo' using requisite syntax and using all the data provided to create table cityInfo\n",
    "\n",
    "import sqlite3\n",
    "con = sqlite3.connect('cityinformation8.db')\n",
    "cur = con.cursor()\n",
    "\n",
    "cur.execute(\"CREATE TABLE cityinformation8 (City text, Country text, Season text, Temperature double, Rainfall double)\")\n",
    "cur.execute(\"INSERT INTO cityinformation8 VALUES ('Mumbai', 'India', 'Winter', 24.8, 5.9), ('Mumbai','India', 'Spring', 28.4, 16.2), ('Mumbai','India', 'Summer', 27.9, 1549.4), ('Mumbai','India', 'Fall', 27.6, 346.0)\")\n",
    "cur.execute(\"INSERT INTO cityinformation8 VALUES ('London', 'United Kindom', 'Winter', 4.2, 207.7), ('London', 'United Kindom', 'Spring', 8.3, 169.6), ('London', 'United Kindom', 'Summer', 15.7, 157.0), ('London', 'United Kindom', 'Fall', 10.4, 218.5)\")\n",
    "cur.execute(\"INSERT INTO cityinformation8 VALUES ('Cairo', 'Egypt', 'Winter', 13.6, 16.5), ('Cairo', 'Egypt', 'Spring', 20.7, 6.5), ('Cairo', 'Egypt', 'Summer', 27.7, 0.1), ('Cairo', 'Egypt', 'Fall', 22.2, 4.5)\")\n",
    "\n",
    "# Selcting all the data from the cityInfo table \n",
    "cur.execute('SELECT * FROM cityinformation8')\n",
    "cur.fetchall()\n",
    "\n",
    "#This code demonstrates how to use the sqlite3 library to connect to an SQLite database file and interact with its tables.\n",
    "#The comments provide clear explanations of each step, making the code easy to understand and follow. \n",
    "#The CREATE TABLE and INSERT INTO SQL statements create a new table and insert data into it, respectively.\n",
    "#The SELECT statement retrieves all the data from the cityinformation1 table, and the fetchall() method retrieves all the rows as a list of tuples."
   ]
  },
  {
   "cell_type": "markdown",
   "id": "d9406613",
   "metadata": {},
   "source": [
    "##  Question 8(a)"
   ]
  },
  {
   "cell_type": "code",
   "execution_count": 70,
   "id": "37de9d67",
   "metadata": {},
   "outputs": [
    {
     "data": {
      "text/plain": [
       "[(24.8,),\n",
       " (28.4,),\n",
       " (27.9,),\n",
       " (27.6,),\n",
       " (4.2,),\n",
       " (8.3,),\n",
       " (15.7,),\n",
       " (10.4,),\n",
       " (13.6,),\n",
       " (20.7,),\n",
       " (27.7,),\n",
       " (22.2,)]"
      ]
     },
     "execution_count": 70,
     "metadata": {},
     "output_type": "execute_result"
    }
   ],
   "source": [
    "\n",
    "cur.execute('SELECT Temperature FROM cityinformation1')\n",
    "cur.fetchall()"
   ]
  },
  {
   "cell_type": "markdown",
   "id": "1d335f5d",
   "metadata": {},
   "source": [
    "##  Question 8(b)"
   ]
  },
  {
   "cell_type": "code",
   "execution_count": 71,
   "id": "0cea7669",
   "metadata": {},
   "outputs": [
    {
     "data": {
      "text/plain": [
       "[('Mumbai',), ('London',), ('Cairo',)]"
      ]
     },
     "execution_count": 71,
     "metadata": {},
     "output_type": "execute_result"
    }
   ],
   "source": [
    "\n",
    "cur.execute('SELECT DISTINCT(City) FROM cityinformation1')\n",
    "cur.fetchall()"
   ]
  },
  {
   "cell_type": "markdown",
   "id": "ec61e4c5",
   "metadata": {},
   "source": [
    "##  Question 8(c)"
   ]
  },
  {
   "cell_type": "code",
   "execution_count": 72,
   "id": "fc774f71",
   "metadata": {},
   "outputs": [
    {
     "data": {
      "text/plain": [
       "[('Mumbai', 'India', 'Winter', 24.8, 5.9),\n",
       " ('Mumbai', 'India', 'Spring', 28.4, 16.2),\n",
       " ('Mumbai', 'India', 'Summer', 27.9, 1549.4),\n",
       " ('Mumbai', 'India', 'Fall', 27.6, 346.0)]"
      ]
     },
     "execution_count": 72,
     "metadata": {},
     "output_type": "execute_result"
    }
   ],
   "source": [
    "\n",
    "cur.execute('SELECT * FROM cityinformation1 where Country = \"India\"')\n",
    "cur.fetchall()"
   ]
  },
  {
   "cell_type": "markdown",
   "id": "b7224eab",
   "metadata": {},
   "source": [
    "##  Question 8(d)"
   ]
  },
  {
   "cell_type": "code",
   "execution_count": 73,
   "id": "88b0f5f4",
   "metadata": {},
   "outputs": [
    {
     "data": {
      "text/plain": [
       "[('Mumbai', 'India', 'Fall', 27.6, 346.0),\n",
       " ('London', 'United Kindom', 'Fall', 10.4, 218.5),\n",
       " ('Cairo', 'Egypt', 'Fall', 22.2, 4.5)]"
      ]
     },
     "execution_count": 73,
     "metadata": {},
     "output_type": "execute_result"
    }
   ],
   "source": [
    "cur.execute('SELECT * FROM cityinformation1 where Season = \"Fall\"')\n",
    "cur.fetchall()"
   ]
  },
  {
   "cell_type": "markdown",
   "id": "a98ef7de",
   "metadata": {},
   "source": [
    "##  Question 8(e)"
   ]
  },
  {
   "cell_type": "code",
   "execution_count": 74,
   "id": "43b0ca39",
   "metadata": {},
   "outputs": [
    {
     "data": {
      "text/plain": [
       "[('London', 'United Kindom', 'Fall', 218.5),\n",
       " ('London', 'United Kindom', 'Winter', 207.7),\n",
       " ('Mumbai', 'India', 'Fall', 346.0)]"
      ]
     },
     "execution_count": 74,
     "metadata": {},
     "output_type": "execute_result"
    }
   ],
   "source": [
    "cur.execute('SELECT City, Country, Season, AVG(Rainfall) FROM cityinformation1 GROUP BY City, Country, Season HAVING AVG(Rainfall) >= 200 and AVG(Rainfall) <= 400')\n",
    "cur.fetchall()\n"
   ]
  },
  {
   "cell_type": "markdown",
   "id": "2a560928",
   "metadata": {},
   "source": [
    "##  Question 8(f)"
   ]
  },
  {
   "cell_type": "code",
   "execution_count": 75,
   "id": "dc2cb25b",
   "metadata": {},
   "outputs": [
    {
     "data": {
      "text/plain": [
       "[('Cairo', 'Egypt', 23.53333333333333),\n",
       " ('Mumbai', 'India', 27.174999999999997)]"
      ]
     },
     "execution_count": 75,
     "metadata": {},
     "output_type": "execute_result"
    }
   ],
   "source": [
    "cur.execute('SELECT City, Country, AVG(Temperature) FROM cityinformation1 where Temperature > 20 GROUP BY City, Country HAVING AVG(Temperature) > 20 ORDER By Temperature ASC')\n",
    "cur.fetchall()"
   ]
  },
  {
   "cell_type": "markdown",
   "id": "275a4bd4",
   "metadata": {},
   "source": [
    "##  Question 8(g)"
   ]
  },
  {
   "cell_type": "code",
   "execution_count": 76,
   "id": "2623e59e",
   "metadata": {},
   "outputs": [
    {
     "data": {
      "text/plain": [
       "[(27.6,)]"
      ]
     },
     "execution_count": 76,
     "metadata": {},
     "output_type": "execute_result"
    }
   ],
   "source": [
    "cur.execute('SELECT SUM(Rainfall) FROM cityinformation1 WHERE City = \"Cairo\"')\n",
    "cur.fetchall()\n"
   ]
  },
  {
   "cell_type": "markdown",
   "id": "35f11eed",
   "metadata": {},
   "source": [
    "##  Question 8(h)"
   ]
  },
  {
   "cell_type": "code",
   "execution_count": 77,
   "id": "f216b247",
   "metadata": {},
   "outputs": [
    {
     "data": {
      "text/plain": [
       "[('Fall', 569.0),\n",
       " ('Spring', 192.29999999999998),\n",
       " ('Summer', 1706.5),\n",
       " ('Winter', 230.1)]"
      ]
     },
     "execution_count": 77,
     "metadata": {},
     "output_type": "execute_result"
    }
   ],
   "source": [
    "cur.execute('SELECT Season, SUM(Rainfall) FROM cityinformation1 GROUP BY Season')\n",
    "cur.fetchall()\n",
    "\n"
   ]
  },
  {
   "cell_type": "markdown",
   "id": "8fa87567",
   "metadata": {},
   "source": [
    "## Question 9:"
   ]
  },
  {
   "cell_type": "code",
   "execution_count": 24,
   "id": "2d3a1b7b",
   "metadata": {},
   "outputs": [],
   "source": [
    " word = ['The', 'quick', 'brown', 'fox', 'jumps', 'over', \n",
    "'the', 'lazy', 'dog'] \n",
    "    "
   ]
  },
  {
   "cell_type": "code",
   "execution_count": 33,
   "id": "171a4e94",
   "metadata": {},
   "outputs": [
    {
     "name": "stdout",
     "output_type": "stream",
     "text": [
      "['THE', 'QUICK', 'BROWN', 'FOX', 'JUMPS', 'OVER', 'THE', 'LAZY', 'DOG']\n"
     ]
    }
   ],
   "source": [
    "i = [elements.upper() for elements in word]\n",
    "print (i)"
   ]
  },
  {
   "cell_type": "code",
   "execution_count": 34,
   "id": "a5591d44",
   "metadata": {},
   "outputs": [
    {
     "name": "stdout",
     "output_type": "stream",
     "text": [
      "['the', 'quick', 'brown', 'fox', 'jumps', 'over', 'the', 'lazy', 'dog']\n"
     ]
    }
   ],
   "source": [
    "j = [elements.lower() for elements in word]\n",
    "print(j)"
   ]
  },
  {
   "cell_type": "code",
   "execution_count": 35,
   "id": "474d6097",
   "metadata": {},
   "outputs": [
    {
     "name": "stdout",
     "output_type": "stream",
     "text": [
      "[3, 5, 5, 3, 5, 4, 3, 4, 3]\n"
     ]
    }
   ],
   "source": [
    "z = [len(elements) for elements in word]\n",
    "print(z)\n"
   ]
  },
  {
   "cell_type": "code",
   "execution_count": 36,
   "id": "a01f535f",
   "metadata": {},
   "outputs": [
    {
     "name": "stdout",
     "output_type": "stream",
     "text": [
      "[['THE', 'the', 3], ['QUICK', 'quick', 5], ['BROWN', 'brown', 5], ['FOX', 'fox', 3], ['JUMPS', 'jumps', 5], ['OVER', 'over', 4], ['THE', 'the', 3], ['LAZY', 'lazy', 4], ['DOG', 'dog', 3]]\n"
     ]
    }
   ],
   "source": [
    "k = [[elements.upper(),elements.lower(),len(elements)] for elements in word]\n",
    "print(k)"
   ]
  },
  {
   "cell_type": "code",
   "execution_count": 37,
   "id": "f3c69f10",
   "metadata": {},
   "outputs": [
    {
     "name": "stdout",
     "output_type": "stream",
     "text": [
      "['quick', 'brown', 'jumps', 'over', 'lazy']\n"
     ]
    }
   ],
   "source": [
    "l = [elements for elements in word if len(elements)>=4]\n",
    "print(l)"
   ]
  }
 ],
 "metadata": {
  "kernelspec": {
   "display_name": "Python 3 (ipykernel)",
   "language": "python",
   "name": "python3"
  },
  "language_info": {
   "codemirror_mode": {
    "name": "ipython",
    "version": 3
   },
   "file_extension": ".py",
   "mimetype": "text/x-python",
   "name": "python",
   "nbconvert_exporter": "python",
   "pygments_lexer": "ipython3",
   "version": "3.9.13"
  }
 },
 "nbformat": 4,
 "nbformat_minor": 5
}
